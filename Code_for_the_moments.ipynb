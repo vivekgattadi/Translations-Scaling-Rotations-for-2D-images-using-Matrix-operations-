{
 "cells": [
  {
   "cell_type": "code",
   "execution_count": null,
   "metadata": {},
   "outputs": [],
   "source": [
    "import numpy as np\n",
    "import cv2\n",
    "\n",
    "\n",
    "def translation(img):\n",
    "    height, width = img.shape[:2]\n",
    "    x_shift_pos = 0\n",
    "    y_shift_neg = height/3\n",
    "    T = np.float32([[1, 0, x_shift_pos], [0, 1, y_shift_neg]])\n",
    "    img_translation = cv2.warpAffine(img, T, (width, height))\n",
    "    '''cv2.imshow('original image',img)'''\n",
    "    cv2.imshow('translated image', img_translation)\n",
    "    cv2.waitKey(0)\n",
    "\n",
    "\n",
    "def scaling(img):\n",
    "    height, width = img.shape[:2]\n",
    "    scaled_img = cv2.resize(img, (int(width/2), int(height/2)), interpolation=cv2.INTER_CUBIC)\n",
    "    cv2.imshow('scaled', scaled_img)\n",
    "    cv2.waitKey(0)\n",
    "\n",
    "\n",
    "def rotation(img):\n",
    "    rows, cols = img.shape[:2]\n",
    "    M = cv2.getRotationMatrix2D((cols / 2, rows / 2), 45, 1)\n",
    "    rotated_img = cv2.warpAffine(img, M, (cols, rows))\n",
    "    cv2.imshow('rotated', rotated_img)\n",
    "    cv2.waitKey(0)\n",
    "\n",
    "\n",
    "img = cv2.imread(r'C:\\Users\\Gattadi Vivek\\Desktop\\swan.jpg', 0)\n",
    "rotation(img)\n",
    "scaling(img)\n",
    "translation(img)\n"
   ]
  }
 ],
 "metadata": {
  "kernelspec": {
   "display_name": "Python 3",
   "language": "python",
   "name": "python3"
  },
  "language_info": {
   "codemirror_mode": {
    "name": "ipython",
    "version": 3
   },
   "file_extension": ".py",
   "mimetype": "text/x-python",
   "name": "python",
   "nbconvert_exporter": "python",
   "pygments_lexer": "ipython3",
   "version": "3.8.5"
  }
 },
 "nbformat": 4,
 "nbformat_minor": 4
}
